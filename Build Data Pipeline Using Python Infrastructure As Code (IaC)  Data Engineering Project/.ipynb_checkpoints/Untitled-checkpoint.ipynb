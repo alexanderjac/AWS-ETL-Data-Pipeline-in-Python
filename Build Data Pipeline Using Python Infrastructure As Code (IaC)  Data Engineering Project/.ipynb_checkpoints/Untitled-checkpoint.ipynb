{
 "cells": [
  {
   "cell_type": "code",
   "execution_count": 18,
   "id": "2bd642d9",
   "metadata": {},
   "outputs": [],
   "source": [
    "import boto3\n",
    "import psycopg2\n",
    "import pandas as pd\n",
    "import json\n"
   ]
  },
  {
   "cell_type": "code",
   "execution_count": 19,
   "id": "678aa71e",
   "metadata": {},
   "outputs": [],
   "source": [
    "import configparser\n",
    "config = configparser.ConfigParser()\n",
    "config.read_file(open('cluster.config'))"
   ]
  },
  {
   "cell_type": "code",
   "execution_count": 20,
   "id": "7b3db119",
   "metadata": {},
   "outputs": [
    {
     "data": {
      "text/plain": [
       "('awsuser', 'Passw0rd123', 'myfirstdb')"
      ]
     },
     "execution_count": 20,
     "metadata": {},
     "output_type": "execute_result"
    }
   ],
   "source": [
    "KEY                      =config.get(\"AWS\", \"KEY\")\n",
    "SECRET                   =config.get(\"AWS\", \"SECRET\")\n",
    "\n",
    "DWH_CLUSTER_TYPE         =config.get(\"DWH\", \"DWH_CLUSTER_TYPE\")\n",
    "DWH_NUM_NODES            =config.get(\"DWH\", \"DWH_NUM_NODES\")\n",
    "DWH_NODE_TYPE            =config.get(\"DWH\", \"DWH_NODE_TYPE\")\n",
    "DWH_CLUSTER_IDENTIFIER   =config.get(\"DWH\", \"DWH_CLUSTER_IDENTIFIER\")\n",
    "DWH_DB                   =config.get(\"DWH\", \"DWH_DB\")\n",
    "DWH_DB_USER              =config.get(\"DWH\", \"DWH_DB_USER\")\n",
    "DWH_DB_PASSWORD          =config.get(\"DWH\", \"DWH_DB_PASSWORD\")\n",
    "DWH_PORT                 =config.get(\"DWH\", \"DWH_PORT\")\n",
    "DWH_IAM_ROLE_NAME        =config.get(\"DWH\", \"DWH_IAM_ROLE_NAME\")\n"
   ]
  },
  {
   "cell_type": "code",
   "execution_count": 21,
   "id": "5ebc97d5",
   "metadata": {},
   "outputs": [],
   "source": [
    "ec2 = boto3.resource('ec2', region_name =\"us-east-1\", aws_access_key_id=KEY, aws_secret_access_key=SECRET)"
   ]
  },
  {
   "cell_type": "code",
   "execution_count": 23,
   "id": "245af981",
   "metadata": {},
   "outputs": [],
   "source": [
    "s3 = boto3.resource('s3', region_name =\"us-east-1\", aws_access_key_id=KEY, aws_secret_access_key=SECRET)\n",
    "iam = boto3.client('iam', region_name =\"us-east-1\", aws_access_key_id=KEY, aws_secret_access_key=SECRET)\n",
    "redshift = boto3.client('redshift', region_name =\"us-east-1\", aws_access_key_id=KEY, aws_secret_access_key=SECRET)"
   ]
  },
  {
   "cell_type": "code",
   "execution_count": 26,
   "id": "dc4d017a",
   "metadata": {},
   "outputs": [
    {
     "data": {
      "text/plain": [
       "['allevents_pipe.txt']"
      ]
     },
     "execution_count": 26,
     "metadata": {},
     "output_type": "execute_result"
    }
   ],
   "source": [
    "bucket=s3.Bucket(\"alexanderjacbucket\")\n",
    "log_data_files = [filename.key for filename in bucket.objects.filter(Prefix='allevents')]\n",
    "log_data_files\n"
   ]
  },
  {
   "cell_type": "code",
   "execution_count": 29,
   "id": "5b470699",
   "metadata": {},
   "outputs": [
    {
     "data": {
      "text/plain": [
       "'arn:aws:iam::678659281608:role/redshift-s3-access'"
      ]
     },
     "execution_count": 29,
     "metadata": {},
     "output_type": "execute_result"
    }
   ],
   "source": [
    "roleArn = iam.get_role(RoleName=DWH_IAM_ROLE_NAME)['Role']['Arn']\n"
   ]
  },
  {
   "cell_type": "code",
   "execution_count": 30,
   "id": "e87ea720",
   "metadata": {},
   "outputs": [],
   "source": [
    "try:\n",
    "    response = redshift.create_cluster(\n",
    "    ClusterType=DWH_CLUSTER_TYPE,\n",
    "    NodeType=DWH_NODE_TYPE,\n",
    "    \n",
    "#     Identifiers & Credentials\n",
    "    DBName=DWH_DB,\n",
    "    ClusterIdentifier=DWH_CLUSTER_IDENTIFIER,\n",
    "    MasterUsername=DWH_DB_USER,\n",
    "    MasterUserPassword=DWH_DB_PASSWORD,\n",
    "        \n",
    "#   Roles (for s3 access)\n",
    "    IamRoles=[roleArn]\n",
    "    )  \n",
    "except Exception as e:\n",
    "    print(e)"
   ]
  },
  {
   "cell_type": "code",
   "execution_count": 32,
   "id": "788812cd",
   "metadata": {},
   "outputs": [
    {
     "data": {
      "text/plain": [
       "{'ClusterIdentifier': 'my-first-redshift',\n",
       " 'NodeType': 'dc2.large',\n",
       " 'ClusterStatus': 'creating',\n",
       " 'ClusterAvailabilityStatus': 'Modifying',\n",
       " 'MasterUsername': 'awsuser',\n",
       " 'DBName': 'myfirstdb',\n",
       " 'AutomatedSnapshotRetentionPeriod': 1,\n",
       " 'ManualSnapshotRetentionPeriod': -1,\n",
       " 'ClusterSecurityGroups': [],\n",
       " 'VpcSecurityGroups': [{'VpcSecurityGroupId': 'sg-0ad5bd314344e9c64',\n",
       "   'Status': 'active'}],\n",
       " 'ClusterParameterGroups': [{'ParameterGroupName': 'default.redshift-1.0',\n",
       "   'ParameterApplyStatus': 'in-sync'}],\n",
       " 'ClusterSubnetGroupName': 'default',\n",
       " 'VpcId': 'vpc-09ab21723304dbae8',\n",
       " 'AvailabilityZone': 'us-east-1e',\n",
       " 'PreferredMaintenanceWindow': 'fri:03:00-fri:03:30',\n",
       " 'PendingModifiedValues': {'MasterUserPassword': '****'},\n",
       " 'ClusterVersion': '1.0',\n",
       " 'AllowVersionUpgrade': True,\n",
       " 'NumberOfNodes': 1,\n",
       " 'PubliclyAccessible': True,\n",
       " 'Encrypted': False,\n",
       " 'ClusterPublicKey': 'ssh-rsa AAAAB3NzaC1yc2EAAAADAQABAAABAQCEMsH6hCeGIZokFliqTbpXKGFS1Tr+6kDTBCmjHJ4HAjb4WMO15UcXxEB6GTWNkI9DXts0sjmbF29nsic4lqWsDEAgZkSAQK755sGGc68aLVep6oJvIwZ/LyNQQuitVl+vfuXyIF9M/7xEGjj/5lJxk4LurbhG0lZZJDBHwXkY/cHhRxPTpifm886YdN3xhEd2rGx7kVHNb9507c+hc25IY96A8fwDwpEsnhLC9W9TfFQrbMdMp/O24VpaNgZkxx7ZpeYIgRxzkO5xOXlz7iiHs9Ex1F+INWyVSv1bm0l9qXVzxIX3eYpbESc52fkl67AG80BDQno2u3XybmiHQylV Amazon-Redshift\\n',\n",
       " 'ClusterNodes': [{'NodeRole': 'SHARED',\n",
       "   'PrivateIPAddress': '172.31.60.203',\n",
       "   'PublicIPAddress': '44.205.128.138'}],\n",
       " 'ClusterRevisionNumber': '41881',\n",
       " 'Tags': [],\n",
       " 'EnhancedVpcRouting': False,\n",
       " 'IamRoles': [{'IamRoleArn': 'arn:aws:iam::678659281608:role/redshift-s3-access',\n",
       "   'ApplyStatus': 'in-sync'}],\n",
       " 'MaintenanceTrackName': 'current',\n",
       " 'DeferredMaintenanceWindows': [],\n",
       " 'NextMaintenanceWindowStartTime': datetime.datetime(2022, 10, 7, 3, 0, tzinfo=tzutc()),\n",
       " 'AvailabilityZoneRelocationStatus': 'disabled',\n",
       " 'ClusterNamespaceArn': 'arn:aws:redshift:us-east-1:678659281608:namespace:671c54ef-d35b-4514-93d5-dffe3df03ba3',\n",
       " 'AquaConfiguration': {'AquaStatus': 'disabled',\n",
       "  'AquaConfigurationStatus': 'auto'}}"
      ]
     },
     "execution_count": 32,
     "metadata": {},
     "output_type": "execute_result"
    }
   ],
   "source": [
    "redshift.describe_clusters(ClusterIdentifier= DWH_CLUSTER_IDENTIFIER)['Clusters'][0]"
   ]
  },
  {
   "cell_type": "code",
   "execution_count": 35,
   "id": "39da3267",
   "metadata": {},
   "outputs": [
    {
     "name": "stderr",
     "output_type": "stream",
     "text": [
      "/var/folders/cd/skk06_3d6cqgvn8hd2kzx9d40000gn/T/ipykernel_6597/1408818457.py:2: FutureWarning: Passing a negative integer is deprecated in version 1.0 and will not be supported in future version. Instead, use None to not limit the column width.\n",
      "  pd.set_option('display.max_colwidth', -1)\n"
     ]
    },
    {
     "data": {
      "text/html": [
       "<div>\n",
       "<style scoped>\n",
       "    .dataframe tbody tr th:only-of-type {\n",
       "        vertical-align: middle;\n",
       "    }\n",
       "\n",
       "    .dataframe tbody tr th {\n",
       "        vertical-align: top;\n",
       "    }\n",
       "\n",
       "    .dataframe thead th {\n",
       "        text-align: right;\n",
       "    }\n",
       "</style>\n",
       "<table border=\"1\" class=\"dataframe\">\n",
       "  <thead>\n",
       "    <tr style=\"text-align: right;\">\n",
       "      <th></th>\n",
       "      <th>key</th>\n",
       "      <th>Value</th>\n",
       "    </tr>\n",
       "  </thead>\n",
       "  <tbody>\n",
       "    <tr>\n",
       "      <th>0</th>\n",
       "      <td>ClusterIdentifier</td>\n",
       "      <td>my-first-redshift</td>\n",
       "    </tr>\n",
       "    <tr>\n",
       "      <th>1</th>\n",
       "      <td>NodeType</td>\n",
       "      <td>dc2.large</td>\n",
       "    </tr>\n",
       "    <tr>\n",
       "      <th>2</th>\n",
       "      <td>ClusterStatus</td>\n",
       "      <td>available</td>\n",
       "    </tr>\n",
       "    <tr>\n",
       "      <th>3</th>\n",
       "      <td>MasterUsername</td>\n",
       "      <td>awsuser</td>\n",
       "    </tr>\n",
       "    <tr>\n",
       "      <th>4</th>\n",
       "      <td>DBName</td>\n",
       "      <td>myfirstdb</td>\n",
       "    </tr>\n",
       "    <tr>\n",
       "      <th>5</th>\n",
       "      <td>Endpoint</td>\n",
       "      <td>{'Address': 'my-first-redshift.cymhepowljvv.us-east-1.redshift.amazonaws.com', 'Port': 5439}</td>\n",
       "    </tr>\n",
       "    <tr>\n",
       "      <th>6</th>\n",
       "      <td>VpcId</td>\n",
       "      <td>vpc-09ab21723304dbae8</td>\n",
       "    </tr>\n",
       "  </tbody>\n",
       "</table>\n",
       "</div>"
      ],
      "text/plain": [
       "                 key  \\\n",
       "0  ClusterIdentifier   \n",
       "1  NodeType            \n",
       "2  ClusterStatus       \n",
       "3  MasterUsername      \n",
       "4  DBName              \n",
       "5  Endpoint            \n",
       "6  VpcId               \n",
       "\n",
       "                                                                                          Value  \n",
       "0  my-first-redshift                                                                             \n",
       "1  dc2.large                                                                                     \n",
       "2  available                                                                                     \n",
       "3  awsuser                                                                                       \n",
       "4  myfirstdb                                                                                     \n",
       "5  {'Address': 'my-first-redshift.cymhepowljvv.us-east-1.redshift.amazonaws.com', 'Port': 5439}  \n",
       "6  vpc-09ab21723304dbae8                                                                         "
      ]
     },
     "execution_count": 35,
     "metadata": {},
     "output_type": "execute_result"
    }
   ],
   "source": [
    "def prettyRedshiftProps(props):\n",
    "    pd.set_option('display.max_colwidth', -1)\n",
    "    keysToShow = [\"ClusterIdentifier\", \"NodeType\", \"ClusterStatus\", \"MasterUsername\", \"DBName\", \"Endpoint\", 'VpcId']\n",
    "    x =[(k, v) for k, v in props.items() if k in keysToShow]\n",
    "    return pd.DataFrame(data=x, columns=[\"key\", \"Value\"])\n",
    "\n",
    "myClusterProps = redshift.describe_clusters(ClusterIdentifier= DWH_CLUSTER_IDENTIFIER)['Clusters'][0]\n",
    "prettyRedshiftProps(myClusterProps)       "
   ]
  },
  {
   "cell_type": "code",
   "execution_count": 38,
   "id": "4f7313a0",
   "metadata": {},
   "outputs": [],
   "source": [
    "DWH_ENDPOINT = myClusterProps['Endpoint']['Address']\n",
    "DWH_ROLE_ARN = myClusterProps['IamRoles'][0]['IamRoleArn']\n",
    "DB_NAME = myClusterProps['DBName']\n",
    "DB_USER = myClusterProps['MasterUsername']"
   ]
  },
  {
   "cell_type": "code",
   "execution_count": 41,
   "id": "ff65154a",
   "metadata": {},
   "outputs": [
    {
     "name": "stdout",
     "output_type": "stream",
     "text": [
      "'ec2.ServiceResource' object has no attribute 'VPC'\n"
     ]
    }
   ],
   "source": [
    "try:\n",
    "    vpc = ec2.VPC(id=myClusterProps['VpcId'])\n",
    "    defaultSg = list(vpc.security_groups.all())[0]\n",
    "    print(defaultSg)\n",
    "    \n",
    "    defaultSg.authorize_ingress(\n",
    "        GroupName=defaultSg.group_name,\n",
    "        CidrIp='0.0.0.0/0',\n",
    "        IdProtocol='TCP',\n",
    "        FromPort=int(DWH_PORT),\n",
    "        ToPort=int(DWH_PORT)\n",
    "    )\n",
    "except Exception as e:\n",
    "    print(e)"
   ]
  },
  {
   "cell_type": "code",
   "execution_count": 47,
   "id": "a00948c9",
   "metadata": {},
   "outputs": [],
   "source": [
    "try:\n",
    "    conn = psycopg2.connect(host=DWH_ENDPOINT, dbname=DB_NAME, user=DB_USER, password=\"Passw0rd123\", port=5439)\n",
    "except psycopg2.Error as e:\n",
    "    print(\"Error: Could not make connection to the Postgres database\")\n",
    "    print(e)\n",
    "conn.set_session(autocommit=True)"
   ]
  },
  {
   "cell_type": "code",
   "execution_count": 48,
   "id": "21e96f0a",
   "metadata": {},
   "outputs": [],
   "source": [
    "try:\n",
    "    cur = conn.cursor()\n",
    "except psycopg2.Error as e:\n",
    "    print(\"Error: Could not get curser to the Database\")\n",
    "    print(e)"
   ]
  },
  {
   "cell_type": "code",
   "execution_count": 49,
   "id": "38945806",
   "metadata": {},
   "outputs": [],
   "source": [
    "try:\n",
    "    cur.execute(\n",
    "    \"\"\"create table users(\n",
    "    userid integer not null distkey sortkey,\n",
    "    username char(8),\n",
    "    firstname varchar(30),\n",
    "    lastname varchar(30),\n",
    "    city varchar(30),\n",
    "    state char(2),\n",
    "    email varchar(100),\n",
    "    phone char(14),\n",
    "    likesports boolean,\n",
    "    liketheatre boolean,\n",
    "    likeconcerts boolean,\n",
    "    likejazz boolean,\n",
    "    likeclassical boolean,\n",
    "    likeopera boolean,\n",
    "    likerock boolean,\n",
    "    likevegas boolean,\n",
    "    likebroadway boolean,\n",
    "    likemusicals boolean);\"\"\"\n",
    "    )\n",
    "except psycopg2.Error as e:\n",
    "    print(\"Error: Issue creating table\")\n",
    "    print(e)"
   ]
  },
  {
   "cell_type": "code",
   "execution_count": 50,
   "id": "7b72ac10",
   "metadata": {},
   "outputs": [],
   "source": [
    "try:\n",
    "    cur.execute(\"\"\"create table venue(\n",
    "    venueid smallint not null distkey sortkey,\n",
    "    venuename varchar(100),\n",
    "    venuecity varchar(30),\n",
    "    venuestate char(2),\n",
    "    venueseats integer);\"\"\")\n",
    "except psycopg2.Error as e:\n",
    "    print(\"Error: Issue creating table\")\n",
    "    print(e)"
   ]
  },
  {
   "cell_type": "code",
   "execution_count": 51,
   "id": "8de20562",
   "metadata": {},
   "outputs": [],
   "source": [
    "try:\n",
    "    cur.execute(\"\"\"create table category(\n",
    "    catid smallint not null distkey sortkey,\n",
    "    catgroup varchar(10),\n",
    "    catname varchar(10),\n",
    "    catdesc varchar(50));\n",
    "    \n",
    "create table date(\n",
    "    dateid smallint not null distkey sortkey,\n",
    "    caldate date not null,\n",
    "    day character(3) not null,\n",
    "    week smallint not null,\n",
    "    month character(5) not null,\n",
    "    qtr character(5) not null,\n",
    "    year smallint not null,\n",
    "    holiday boolean default('N'));\n",
    "\n",
    "create table event(\n",
    "    eventid integer not null distkey,\n",
    "    venueid smallint not null,\n",
    "    catid smallint not null,\n",
    "    dateid smallint not null sortkey,\n",
    "    eventname varchar(200),\n",
    "    starttime timestamp);\n",
    "    \n",
    "create table listing(\n",
    "    listid integer not null distkey,\n",
    "    sellerid integer not null,\n",
    "    eventid integer not null,\n",
    "    dateid smallint not null sortkey,\n",
    "    numtickets smallint not null,\n",
    "    pricepertickets decimal(8,2),\n",
    "    totalprice decimal(8,2),\n",
    "    listtime timestamp);\n",
    "    \"\"\")\n",
    "except psycopg2.Error as e:\n",
    "    print(\"Error: Issue creating table\")\n",
    "    print(e)"
   ]
  },
  {
   "cell_type": "code",
   "execution_count": 52,
   "id": "c5e06cb0",
   "metadata": {},
   "outputs": [],
   "source": [
    "try:\n",
    "    cur.execute(\"\"\"\n",
    "    copy users from 's3://alexanderjacbucket/allusers_pipe.txt'\n",
    "    credentials 'aws_iam_role=arn:aws:iam::678659281608:role/redshift-s3-access'\n",
    "    delimiter '|'\n",
    "    region 'us-east-1'\n",
    "    \"\"\")\n",
    "except psycopg2.Error as e:\n",
    "    print(\"Error: Issue creating table\")\n",
    "    print(e)"
   ]
  },
  {
   "cell_type": "code",
   "execution_count": 53,
   "id": "e46349fe",
   "metadata": {},
   "outputs": [],
   "source": [
    "try:\n",
    "    cur.execute(\"\"\"\n",
    "    select * from users;\n",
    "    \"\"\")\n",
    "except psycopg2.Error as e:\n",
    "    print(\"Error: Issue creating table\")\n",
    "    print(e)"
   ]
  },
  {
   "cell_type": "code",
   "execution_count": 55,
   "id": "501c1969",
   "metadata": {},
   "outputs": [
    {
     "name": "stdout",
     "output_type": "stream",
     "text": [
      "(5, 'AEB55QTM', 'Reagan', 'Hodge', 'Forest Lake', 'NS', 'Cum@accumsan.com', '(476) 519-9131', None, None, True, False, None, None, True, True, False, True)\n"
     ]
    }
   ],
   "source": [
    "row = cur.fetchone()\n",
    "print(row)\n"
   ]
  },
  {
   "cell_type": "code",
   "execution_count": 57,
   "id": "8c8bcdec",
   "metadata": {},
   "outputs": [],
   "source": [
    "# migrate all other tables from s3 to redshift\n",
    "try:\n",
    "    cur.execute(\"\"\"\n",
    "    copy event from 's3://alexanderjacbucket/allevents_pipe.txt'\n",
    "    credentials 'aws_iam_role=arn:aws:iam::678659281608:role/redshift-s3-access'\n",
    "    delimiter '|'\n",
    "    region 'us-east-1'\n",
    "    \"\"\")\n",
    "except psycopg2.Error as e:\n",
    "    print(\"Error: Issue creating table\")\n",
    "    print(e)\n",
    "    \n",
    "try:\n",
    "    cur.execute(\"\"\"\n",
    "    copy venue from 's3://alexanderjacbucket/venue_pipe.txt'\n",
    "    credentials 'aws_iam_role=arn:aws:iam::678659281608:role/redshift-s3-access'\n",
    "    delimiter '|'\n",
    "    region 'us-east-1'\n",
    "    \"\"\")\n",
    "except psycopg2.Error as e:\n",
    "    print(\"Error: Issue creating table\")\n",
    "    print(e)\n",
    "    \n",
    "try:\n",
    "    cur.execute(\"\"\"\n",
    "    copy date from 's3://alexanderjacbucket/date2008_pipe.txt'\n",
    "    credentials 'aws_iam_role=arn:aws:iam::678659281608:role/redshift-s3-access'\n",
    "    delimiter '|'\n",
    "    region 'us-east-1'\n",
    "    \"\"\")\n",
    "except psycopg2.Error as e:\n",
    "    print(\"Error: Issue creating table\")\n",
    "    print(e)\n",
    "    \n",
    "try:\n",
    "    cur.execute(\"\"\"\n",
    "    copy category from 's3://alexanderjacbucket/category_pipe.txt'\n",
    "    credentials 'aws_iam_role=arn:aws:iam::678659281608:role/redshift-s3-access'\n",
    "    delimiter '|'\n",
    "    region 'us-east-1'\n",
    "    \"\"\")\n",
    "except psycopg2.Error as e:\n",
    "    print(\"Error: Issue creating table\")\n",
    "    print(e)\n",
    "    \n",
    "try:\n",
    "    cur.execute(\"\"\"\n",
    "    copy listing from 's3://alexanderjacbucket/listings_pipe.txt'\n",
    "    credentials 'aws_iam_role=arn:aws:iam::678659281608:role/redshift-s3-access'\n",
    "    delimiter '|'\n",
    "    region 'us-east-1'\n",
    "    \"\"\")\n",
    "except psycopg2.Error as e:\n",
    "    print(\"Error: Issue creating table\")\n",
    "    print(e)"
   ]
  },
  {
   "cell_type": "code",
   "execution_count": 58,
   "id": "1b4aa782",
   "metadata": {},
   "outputs": [],
   "source": [
    "try:\n",
    "    conn.close()\n",
    "except psycopg2.Error as e:\n",
    "    print(e)"
   ]
  },
  {
   "cell_type": "code",
   "execution_count": 60,
   "id": "6581682a",
   "metadata": {},
   "outputs": [
    {
     "data": {
      "text/plain": [
       "{'Cluster': {'ClusterIdentifier': 'my-first-redshift',\n",
       "  'NodeType': 'dc2.large',\n",
       "  'ClusterStatus': 'deleting',\n",
       "  'ClusterAvailabilityStatus': 'Modifying',\n",
       "  'MasterUsername': 'awsuser',\n",
       "  'DBName': 'myfirstdb',\n",
       "  'Endpoint': {'Address': 'my-first-redshift.cymhepowljvv.us-east-1.redshift.amazonaws.com',\n",
       "   'Port': 5439},\n",
       "  'ClusterCreateTime': datetime.datetime(2022, 10, 2, 22, 36, 27, 58000, tzinfo=tzutc()),\n",
       "  'AutomatedSnapshotRetentionPeriod': 1,\n",
       "  'ManualSnapshotRetentionPeriod': -1,\n",
       "  'ClusterSecurityGroups': [],\n",
       "  'VpcSecurityGroups': [{'VpcSecurityGroupId': 'sg-0ad5bd314344e9c64',\n",
       "    'Status': 'active'}],\n",
       "  'ClusterParameterGroups': [{'ParameterGroupName': 'default.redshift-1.0',\n",
       "    'ParameterApplyStatus': 'in-sync'}],\n",
       "  'ClusterSubnetGroupName': 'default',\n",
       "  'VpcId': 'vpc-09ab21723304dbae8',\n",
       "  'AvailabilityZone': 'us-east-1e',\n",
       "  'PreferredMaintenanceWindow': 'fri:03:00-fri:03:30',\n",
       "  'PendingModifiedValues': {},\n",
       "  'ClusterVersion': '1.0',\n",
       "  'AllowVersionUpgrade': True,\n",
       "  'NumberOfNodes': 1,\n",
       "  'PubliclyAccessible': True,\n",
       "  'Encrypted': False,\n",
       "  'Tags': [],\n",
       "  'EnhancedVpcRouting': False,\n",
       "  'IamRoles': [{'IamRoleArn': 'arn:aws:iam::678659281608:role/redshift-s3-access',\n",
       "    'ApplyStatus': 'in-sync'}],\n",
       "  'MaintenanceTrackName': 'current',\n",
       "  'DeferredMaintenanceWindows': [],\n",
       "  'NextMaintenanceWindowStartTime': datetime.datetime(2022, 10, 7, 3, 0, tzinfo=tzutc()),\n",
       "  'TotalStorageCapacityInMegaBytes': 400000,\n",
       "  'AquaConfiguration': {'AquaStatus': 'disabled',\n",
       "   'AquaConfigurationStatus': 'auto'}},\n",
       " 'ResponseMetadata': {'RequestId': 'e8ac8d46-9ddd-4240-9782-a73a62cc85db',\n",
       "  'HTTPStatusCode': 200,\n",
       "  'HTTPHeaders': {'x-amzn-requestid': 'e8ac8d46-9ddd-4240-9782-a73a62cc85db',\n",
       "   'content-type': 'text/xml',\n",
       "   'content-length': '2733',\n",
       "   'vary': 'accept-encoding',\n",
       "   'date': 'Mon, 03 Oct 2022 02:03:32 GMT'},\n",
       "  'RetryAttempts': 0}}"
      ]
     },
     "execution_count": 60,
     "metadata": {},
     "output_type": "execute_result"
    }
   ],
   "source": [
    "redshift.delete_cluster(\n",
    "    ClusterIdentifier=DWH_CLUSTER_IDENTIFIER,\n",
    "    SkipFinalClusterSnapshot=True\n",
    ")"
   ]
  },
  {
   "cell_type": "code",
   "execution_count": null,
   "id": "ae48ef06",
   "metadata": {},
   "outputs": [],
   "source": []
  }
 ],
 "metadata": {
  "kernelspec": {
   "display_name": "Python 3 (ipykernel)",
   "language": "python",
   "name": "python3"
  },
  "language_info": {
   "codemirror_mode": {
    "name": "ipython",
    "version": 3
   },
   "file_extension": ".py",
   "mimetype": "text/x-python",
   "name": "python",
   "nbconvert_exporter": "python",
   "pygments_lexer": "ipython3",
   "version": "3.8.13"
  }
 },
 "nbformat": 4,
 "nbformat_minor": 5
}
